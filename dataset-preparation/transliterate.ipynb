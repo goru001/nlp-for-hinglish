{
 "cells": [
  {
   "cell_type": "code",
   "execution_count": 1,
   "metadata": {},
   "outputs": [],
   "source": [
    "from indictrans import Transliterator\n",
    "from tqdm import tqdm\n",
    "import time\n",
    "import re\n",
    "import path\n",
    "import os"
   ]
  },
  {
   "cell_type": "code",
   "execution_count": 2,
   "metadata": {},
   "outputs": [],
   "source": [
    "def is_english(s: str) -> bool:\n",
    "    if len(re.findall(u'[\\u0900-\\u097F]', s)) <= 1000:\n",
    "        return True\n",
    "    return False"
   ]
  },
  {
   "cell_type": "code",
   "execution_count": 3,
   "metadata": {},
   "outputs": [],
   "source": [
    "trn = Transliterator(source='hin', target='eng', build_lookup=True)"
   ]
  },
  {
   "cell_type": "code",
   "execution_count": 4,
   "metadata": {},
   "outputs": [],
   "source": [
    "hin = '''अधिकारी ने कहा कि आरोपियों की पृष्ठभूमि की जांच की जा रही है।'''"
   ]
  },
  {
   "cell_type": "code",
   "execution_count": 5,
   "metadata": {},
   "outputs": [
    {
     "name": "stdout",
     "output_type": "stream",
     "text": [
      "adhikari ne kaha ki aropiyon kii prishthbhumi kii jaanch kii ja rahi he.\n"
     ]
    }
   ],
   "source": [
    "print(trn.transform(hin))"
   ]
  },
  {
   "cell_type": "code",
   "execution_count": 10,
   "metadata": {},
   "outputs": [
    {
     "name": "stdout",
     "output_type": "stream",
     "text": [
      "है दीड वेरी वेल इन हिस एक्सम\n"
     ]
    }
   ],
   "source": [
    "text = 'he did very well in his exams'\n",
    "trn = Transliterator(source='eng', target='hin', build_lookup=True)\n",
    "print(trn.transform(text))"
   ]
  },
  {
   "cell_type": "code",
   "execution_count": null,
   "metadata": {},
   "outputs": [],
   "source": []
  },
  {
   "cell_type": "code",
   "execution_count": 6,
   "metadata": {},
   "outputs": [
    {
     "name": "stdout",
     "output_type": "stream",
     "text": [
      "2104\n"
     ]
    }
   ],
   "source": [
    "all_files = os.listdir('/home/gaurav/PycharmProjects/code-mixed/data/train_hi')\n",
    "print(len(all_files))"
   ]
  },
  {
   "cell_type": "code",
   "execution_count": 7,
   "metadata": {},
   "outputs": [
    {
     "name": "stdout",
     "output_type": "stream",
     "text": [
      "2\n"
     ]
    }
   ],
   "source": [
    "dest_folder = '/home/gaurav/PycharmProjects/code-mixed/data/train_trans_hi_en'\n",
    "done_files = os.listdir(dest_folder)\n",
    "print(len(done_files))"
   ]
  },
  {
   "cell_type": "code",
   "execution_count": 8,
   "metadata": {},
   "outputs": [
    {
     "name": "stderr",
     "output_type": "stream",
     "text": [
      "100%|██████████| 2104/2104 [50:12<00:00,  1.43s/it] \n"
     ]
    }
   ],
   "source": [
    "base_url = '/home/gaurav/PycharmProjects/code-mixed/data'\n",
    "for filename in tqdm(all_files):\n",
    "    if filename in done_files:\n",
    "        continue\n",
    "    url = f'{base_url}/train_hi/{filename}'\n",
    "    in_english = False\n",
    "    with open(f'{url}', 'r') as f:\n",
    "        alltext = f.read()\n",
    "    alltext = trn.transform(alltext)\n",
    "    in_english = is_english(alltext)\n",
    "    if in_english:\n",
    "        with open(f'{dest_folder}/{filename}', 'w') as f:\n",
    "            f.write(alltext)\n",
    "    if not in_english:\n",
    "        print(f'Failed for {url}')"
   ]
  },
  {
   "cell_type": "code",
   "execution_count": null,
   "metadata": {},
   "outputs": [],
   "source": []
  }
 ],
 "metadata": {
  "kernelspec": {
   "display_name": "Python 3",
   "language": "python",
   "name": "python3"
  },
  "language_info": {
   "codemirror_mode": {
    "name": "ipython",
    "version": 3
   },
   "file_extension": ".py",
   "mimetype": "text/x-python",
   "name": "python",
   "nbconvert_exporter": "python",
   "pygments_lexer": "ipython3",
   "version": "3.6.9"
  }
 },
 "nbformat": 4,
 "nbformat_minor": 2
}
