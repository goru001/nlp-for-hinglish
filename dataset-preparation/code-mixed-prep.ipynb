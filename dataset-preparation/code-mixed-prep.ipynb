{
 "cells": [
  {
   "cell_type": "code",
   "execution_count": 1,
   "metadata": {},
   "outputs": [],
   "source": [
    "from fastai.text import *\n",
    "from tqdm import tqdm"
   ]
  },
  {
   "cell_type": "code",
   "execution_count": 2,
   "metadata": {},
   "outputs": [],
   "source": [
    "dataset_type = 'test'"
   ]
  },
  {
   "cell_type": "code",
   "execution_count": 3,
   "metadata": {},
   "outputs": [],
   "source": [
    "en_path = Path(f'/home/gaurav/PycharmProjects/code-mixed/data/{dataset_type}_en')\n",
    "hi_path = Path(f'/home/gaurav/PycharmProjects/code-mixed/data/{dataset_type}_hi')\n",
    "trans_hi_en_path = Path(f'/home/gaurav/PycharmProjects/code-mixed/data/{dataset_type}_trans_hi_en')"
   ]
  },
  {
   "cell_type": "code",
   "execution_count": 4,
   "metadata": {},
   "outputs": [
    {
     "data": {
      "text/plain": [
       "(1578, 1578, 1578)"
      ]
     },
     "execution_count": 4,
     "metadata": {},
     "output_type": "execute_result"
    }
   ],
   "source": [
    "len(en_path.ls()), len(hi_path.ls()), len(trans_hi_en_path.ls())"
   ]
  },
  {
   "cell_type": "code",
   "execution_count": 5,
   "metadata": {},
   "outputs": [
    {
     "name": "stderr",
     "output_type": "stream",
     "text": [
      "100%|██████████| 1578/1578 [00:15<00:00, 99.39it/s] \n"
     ]
    }
   ],
   "source": [
    "dest_dir = Path(f'/media/gaurav/My Passport/drive/datasets/code-mixed/data/{dataset_type}_hinglish')\n",
    "for filename in tqdm(en_path.ls()):\n",
    "    filename = str(filename).split('/')[-1]\n",
    "    with open(en_path/filename, 'r') as f:\n",
    "        en_data = f.readlines()\n",
    "    with open(trans_hi_en_path/filename, 'r') as f:\n",
    "        trans_hi_en_data = f.readlines()\n",
    "    assert len(en_data) == len(trans_hi_en_data)\n",
    "    for j, is_cur_ln_en in enumerate([True, False]):\n",
    "        code_mixed_data = []\n",
    "        index = -1\n",
    "        while len(code_mixed_data) < len(en_data):\n",
    "            index += 1\n",
    "            if en_data[index].strip() == '':\n",
    "                code_mixed_data.append(en_data[index])\n",
    "                continue\n",
    "            if is_cur_ln_en:\n",
    "                code_mixed_data.append(en_data[index])\n",
    "                is_cur_ln_en = False\n",
    "            else:\n",
    "                code_mixed_data.append(trans_hi_en_data[index])\n",
    "                is_cur_ln_en = True\n",
    "        with open(dest_dir/str(j)/filename, 'w') as f:\n",
    "            f.writelines(code_mixed_data)"
   ]
  },
  {
   "cell_type": "code",
   "execution_count": null,
   "metadata": {},
   "outputs": [],
   "source": []
  }
 ],
 "metadata": {
  "kernelspec": {
   "display_name": "Python 3",
   "language": "python",
   "name": "python3"
  },
  "language_info": {
   "codemirror_mode": {
    "name": "ipython",
    "version": 3
   },
   "file_extension": ".py",
   "mimetype": "text/x-python",
   "name": "python",
   "nbconvert_exporter": "python",
   "pygments_lexer": "ipython3",
   "version": "3.7.3"
  }
 },
 "nbformat": 4,
 "nbformat_minor": 2
}
