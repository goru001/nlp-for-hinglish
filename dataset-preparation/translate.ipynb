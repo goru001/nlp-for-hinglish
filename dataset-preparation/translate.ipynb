{
 "cells": [
  {
   "cell_type": "code",
   "execution_count": 1,
   "metadata": {},
   "outputs": [],
   "source": [
    "from selenium import webdriver\n",
    "from tqdm import tqdm\n",
    "# Importing the ChromeDriver class for handling webdriver\n",
    "from webdriver_manager.chrome import ChromeDriverManager\n",
    "from selenium.webdriver.common.keys import Keys\n",
    "import pyperclip\n",
    "import time\n",
    "from bs4 import BeautifulSoup\n",
    "import re\n",
    "import path\n",
    "import os"
   ]
  },
  {
   "cell_type": "code",
   "execution_count": 2,
   "metadata": {},
   "outputs": [],
   "source": [
    "def is_english(s: str) -> bool:\n",
    "    if len(re.findall(u'[\\u0900-\\u097F]', s)) <= 1000:\n",
    "        return True\n",
    "    return False"
   ]
  },
  {
   "cell_type": "code",
   "execution_count": 3,
   "metadata": {},
   "outputs": [
    {
     "name": "stdout",
     "output_type": "stream",
     "text": [
      "1578\n"
     ]
    }
   ],
   "source": [
    "all_files = os.listdir('/home/gaurav/PycharmProjects/code-mixed/data/test_hi')\n",
    "print(len(all_files))"
   ]
  },
  {
   "cell_type": "code",
   "execution_count": 4,
   "metadata": {},
   "outputs": [
    {
     "name": "stdout",
     "output_type": "stream",
     "text": [
      "1569\n"
     ]
    }
   ],
   "source": [
    "dest_folder = '/home/gaurav/PycharmProjects/code-mixed/data/test_en'\n",
    "done_files = os.listdir(dest_folder)\n",
    "print(len(done_files))"
   ]
  },
  {
   "cell_type": "code",
   "execution_count": 5,
   "metadata": {},
   "outputs": [
    {
     "name": "stderr",
     "output_type": "stream",
     "text": [
      "\r",
      "  0%|          | 0/1578 [00:00<?, ?it/s]"
     ]
    },
    {
     "name": "stdout",
     "output_type": "stream",
     "text": [
      "\n",
      "Looking for [chromedriver 81.0.4044.69 linux64] driver in cache \n",
      "File found in cache by path [/home/gaurav/.wdm/drivers/chromedriver/81.0.4044.69/linux64/chromedriver]\n"
     ]
    },
    {
     "name": "stderr",
     "output_type": "stream",
     "text": [
      "/home/gaurav/anaconda3/envs/inltk/lib/python3.6/site-packages/ipykernel_launcher.py:16: DeprecationWarning: use options instead of chrome_options\n",
      "  app.launch_new_instance()\n"
     ]
    },
    {
     "name": "stdout",
     "output_type": "stream",
     "text": [
      "\n",
      "Looking for [chromedriver 81.0.4044.69 linux64] driver in cache \n",
      "File found in cache by path [/home/gaurav/.wdm/drivers/chromedriver/81.0.4044.69/linux64/chromedriver]\n"
     ]
    },
    {
     "name": "stderr",
     "output_type": "stream",
     "text": [
      "\r",
      "  2%|▏         | 36/1578 [01:13<52:49,  2.06s/it]"
     ]
    },
    {
     "name": "stdout",
     "output_type": "stream",
     "text": [
      "\n",
      "Looking for [chromedriver 81.0.4044.69 linux64] driver in cache \n",
      "File found in cache by path [/home/gaurav/.wdm/drivers/chromedriver/81.0.4044.69/linux64/chromedriver]\n"
     ]
    },
    {
     "name": "stderr",
     "output_type": "stream",
     "text": [
      "\r",
      "  5%|▌         | 85/1578 [01:41<39:56,  1.61s/it]"
     ]
    },
    {
     "name": "stdout",
     "output_type": "stream",
     "text": [
      "\n",
      "Looking for [chromedriver 81.0.4044.69 linux64] driver in cache \n",
      "File found in cache by path [/home/gaurav/.wdm/drivers/chromedriver/81.0.4044.69/linux64/chromedriver]\n"
     ]
    },
    {
     "name": "stderr",
     "output_type": "stream",
     "text": [
      "\r",
      "  6%|▌         | 98/1578 [02:08<43:11,  1.75s/it]"
     ]
    },
    {
     "name": "stdout",
     "output_type": "stream",
     "text": [
      "\n",
      "Looking for [chromedriver 81.0.4044.69 linux64] driver in cache \n",
      "File found in cache by path [/home/gaurav/.wdm/drivers/chromedriver/81.0.4044.69/linux64/chromedriver]\n"
     ]
    },
    {
     "name": "stderr",
     "output_type": "stream",
     "text": [
      "\r",
      " 37%|███▋      | 589/1578 [02:35<20:28,  1.24s/it]"
     ]
    },
    {
     "name": "stdout",
     "output_type": "stream",
     "text": [
      "\n",
      "Looking for [chromedriver 81.0.4044.69 linux64] driver in cache \n",
      "File found in cache by path [/home/gaurav/.wdm/drivers/chromedriver/81.0.4044.69/linux64/chromedriver]\n"
     ]
    },
    {
     "name": "stderr",
     "output_type": "stream",
     "text": [
      "\r",
      " 37%|███▋      | 589/1578 [02:50<20:28,  1.24s/it]"
     ]
    },
    {
     "name": "stdout",
     "output_type": "stream",
     "text": [
      "\n",
      "Looking for [chromedriver 81.0.4044.69 linux64] driver in cache \n",
      "File found in cache by path [/home/gaurav/.wdm/drivers/chromedriver/81.0.4044.69/linux64/chromedriver]\n",
      "\n",
      "Looking for [chromedriver 81.0.4044.69 linux64] driver in cache \n",
      "File found in cache by path [/home/gaurav/.wdm/drivers/chromedriver/81.0.4044.69/linux64/chromedriver]\n",
      "\n",
      "Looking for [chromedriver 81.0.4044.69 linux64] driver in cache \n",
      "File found in cache by path [/home/gaurav/.wdm/drivers/chromedriver/81.0.4044.69/linux64/chromedriver]\n",
      "\n",
      "Looking for [chromedriver 81.0.4044.69 linux64] driver in cache \n",
      "File found in cache by path [/home/gaurav/.wdm/drivers/chromedriver/81.0.4044.69/linux64/chromedriver]\n"
     ]
    },
    {
     "name": "stderr",
     "output_type": "stream",
     "text": [
      "\r",
      " 56%|█████▌    | 878/1578 [08:11<14:12,  1.22s/it]"
     ]
    },
    {
     "name": "stdout",
     "output_type": "stream",
     "text": [
      "\n",
      "Looking for [chromedriver 81.0.4044.69 linux64] driver in cache \n",
      "File found in cache by path [/home/gaurav/.wdm/drivers/chromedriver/81.0.4044.69/linux64/chromedriver]\n"
     ]
    },
    {
     "name": "stderr",
     "output_type": "stream",
     "text": [
      "\r",
      " 68%|██████▊   | 1073/1578 [08:38<07:31,  1.12it/s]"
     ]
    },
    {
     "name": "stdout",
     "output_type": "stream",
     "text": [
      "\n",
      "Looking for [chromedriver 81.0.4044.69 linux64] driver in cache \n",
      "File found in cache by path [/home/gaurav/.wdm/drivers/chromedriver/81.0.4044.69/linux64/chromedriver]\n"
     ]
    },
    {
     "name": "stderr",
     "output_type": "stream",
     "text": [
      "\r",
      " 77%|███████▋  | 1213/1578 [09:05<04:09,  1.46it/s]"
     ]
    },
    {
     "name": "stdout",
     "output_type": "stream",
     "text": [
      "\n",
      "Looking for [chromedriver 81.0.4044.69 linux64] driver in cache \n",
      "File found in cache by path [/home/gaurav/.wdm/drivers/chromedriver/81.0.4044.69/linux64/chromedriver]\n",
      "\n",
      "Looking for [chromedriver 81.0.4044.69 linux64] driver in cache \n",
      "File found in cache by path [/home/gaurav/.wdm/drivers/chromedriver/81.0.4044.69/linux64/chromedriver]\n"
     ]
    },
    {
     "name": "stderr",
     "output_type": "stream",
     "text": [
      "\r",
      " 79%|███████▉  | 1254/1578 [10:20<05:31,  1.02s/it]"
     ]
    },
    {
     "name": "stdout",
     "output_type": "stream",
     "text": [
      "\n",
      "Looking for [chromedriver 81.0.4044.69 linux64] driver in cache \n",
      "File found in cache by path [/home/gaurav/.wdm/drivers/chromedriver/81.0.4044.69/linux64/chromedriver]\n"
     ]
    },
    {
     "name": "stderr",
     "output_type": "stream",
     "text": [
      "100%|██████████| 1578/1578 [10:47<00:00,  2.44it/s]\n"
     ]
    }
   ],
   "source": [
    "base_url = 'file:///home/gaurav/PycharmProjects/code-mixed/data'\n",
    "for filename in tqdm(all_files):\n",
    "    if filename in done_files:\n",
    "        continue\n",
    "    url = f'{base_url}/test_hi/{filename}'\n",
    "    sleep_time = 20\n",
    "    trial = 1\n",
    "    in_english = False\n",
    "    while trial <= 6 and not in_english:\n",
    "        options = webdriver.ChromeOptions()\n",
    "        prefs = {\n",
    "          \"translate_whitelists\": {\"hi\":\"en\"},\n",
    "          \"translate\":{\"enabled\":\"true\"}\n",
    "        }\n",
    "        options.add_experimental_option(\"prefs\", prefs)\n",
    "        browser = webdriver.Chrome(ChromeDriverManager().install(), chrome_options=options)\n",
    "        browser.get(url)\n",
    "        time.sleep(sleep_time)\n",
    "        alltext = browser.page_source\n",
    "        soup = BeautifulSoup(alltext, 'html.parser')\n",
    "        alltext = soup.find('pre').text\n",
    "        in_english = is_english(alltext)\n",
    "        if in_english:\n",
    "            with open(f'{dest_folder}/{filename}', 'w') as f:\n",
    "                f.write(alltext)\n",
    "        trial += 1\n",
    "        sleep_time += 20\n",
    "        time.sleep(5)\n",
    "        browser.quit()\n",
    "    if not in_english:\n",
    "        print(f'Failed for {url}')"
   ]
  },
  {
   "cell_type": "code",
   "execution_count": 22,
   "metadata": {},
   "outputs": [],
   "source": []
  },
  {
   "cell_type": "code",
   "execution_count": 3,
   "metadata": {},
   "outputs": [],
   "source": [
    "with open('test.txt', 'w') as f:\n",
    "    f.write('hello')"
   ]
  },
  {
   "cell_type": "code",
   "execution_count": 20,
   "metadata": {},
   "outputs": [
    {
     "name": "stdout",
     "output_type": "stream",
     "text": [
      " \n"
     ]
    }
   ],
   "source": [
    "print(alltext[12100])"
   ]
  },
  {
   "cell_type": "code",
   "execution_count": 28,
   "metadata": {},
   "outputs": [
    {
     "data": {
      "text/plain": [
       "13"
      ]
     },
     "execution_count": 28,
     "metadata": {},
     "output_type": "execute_result"
    }
   ],
   "source": []
  },
  {
   "cell_type": "code",
   "execution_count": null,
   "metadata": {},
   "outputs": [],
   "source": []
  }
 ],
 "metadata": {
  "kernelspec": {
   "display_name": "Python 3",
   "language": "python",
   "name": "python3"
  },
  "language_info": {
   "codemirror_mode": {
    "name": "ipython",
    "version": 3
   },
   "file_extension": ".py",
   "mimetype": "text/x-python",
   "name": "python",
   "nbconvert_exporter": "python",
   "pygments_lexer": "ipython3",
   "version": "3.6.9"
  }
 },
 "nbformat": 4,
 "nbformat_minor": 2
}
