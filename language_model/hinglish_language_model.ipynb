{
 "cells": [
  {
   "cell_type": "code",
   "execution_count": 1,
   "metadata": {},
   "outputs": [],
   "source": [
    "%reload_ext autoreload\n",
    "%autoreload 2\n",
    "%matplotlib inline"
   ]
  },
  {
   "cell_type": "code",
   "execution_count": 2,
   "metadata": {},
   "outputs": [],
   "source": [
    "from fastai.text import *\n",
    "import numpy as np\n",
    "import pickle\n",
    "import sentencepiece as spm\n",
    "from tqdm import tqdm"
   ]
  },
  {
   "cell_type": "code",
   "execution_count": 3,
   "metadata": {},
   "outputs": [
    {
     "data": {
      "text/plain": [
       "('1.0.57', '1.5.0')"
      ]
     },
     "execution_count": 3,
     "metadata": {},
     "output_type": "execute_result"
    }
   ],
   "source": [
    "import fastai, torch\n",
    "fastai.__version__ , torch.__version__"
   ]
  },
  {
   "cell_type": "code",
   "execution_count": 4,
   "metadata": {},
   "outputs": [
    {
     "name": "stdout",
     "output_type": "stream",
     "text": [
      "Sat May  9 16:34:47 2020       \r\n",
      "+-----------------------------------------------------------------------------+\r\n",
      "| NVIDIA-SMI 440.33.01    Driver Version: 440.33.01    CUDA Version: 10.2     |\r\n",
      "|-------------------------------+----------------------+----------------------+\r\n",
      "| GPU  Name        Persistence-M| Bus-Id        Disp.A | Volatile Uncorr. ECC |\r\n",
      "| Fan  Temp  Perf  Pwr:Usage/Cap|         Memory-Usage | GPU-Util  Compute M. |\r\n",
      "|===============================+======================+======================|\r\n",
      "|   0  GeForce GTX 108...  Off  | 00000000:01:00.0  On |                  N/A |\r\n",
      "|  0%   58C    P2    58W / 250W |    485MiB / 11177MiB |      0%      Default |\r\n",
      "+-------------------------------+----------------------+----------------------+\r\n",
      "                                                                               \r\n",
      "+-----------------------------------------------------------------------------+\r\n",
      "| Processes:                                                       GPU Memory |\r\n",
      "|  GPU       PID   Type   Process name                             Usage      |\r\n",
      "|=============================================================================|\r\n",
      "|    0      1091      G   /usr/lib/xorg/Xorg                           233MiB |\r\n",
      "|    0      2407      G   compiz                                       239MiB |\r\n",
      "+-----------------------------------------------------------------------------+\r\n"
     ]
    }
   ],
   "source": [
    "!nvidia-smi"
   ]
  },
  {
   "cell_type": "code",
   "execution_count": 5,
   "metadata": {},
   "outputs": [],
   "source": [
    "torch.cuda.set_device(0)"
   ]
  },
  {
   "cell_type": "code",
   "execution_count": 6,
   "metadata": {},
   "outputs": [
    {
     "name": "stdout",
     "output_type": "stream",
     "text": [
      "/home/gaurav/PycharmProjects/code-mixed/language_model\r\n"
     ]
    }
   ],
   "source": [
    "!pwd"
   ]
  },
  {
   "cell_type": "code",
   "execution_count": 7,
   "metadata": {},
   "outputs": [],
   "source": [
    "path = Path('/home/gaurav/PycharmProjects/code-mixed/language_model')"
   ]
  },
  {
   "cell_type": "code",
   "execution_count": 8,
   "metadata": {},
   "outputs": [],
   "source": [
    "from inltk.tokenizer import HinglishTokenizer, handle_all_caps, handle_upper_case_first_letter"
   ]
  },
  {
   "cell_type": "code",
   "execution_count": 9,
   "metadata": {},
   "outputs": [],
   "source": [
    "# def handle_all_caps(t: str) -> str:\n",
    "#     tokens = t.split()\n",
    "#     tokens = replace_all_caps(tokens)\n",
    "#     return ' '.join(tokens)\n",
    "\n",
    "# def handle_upper_case_first_letter(t: str) -> str:\n",
    "#     tokens = t.split()\n",
    "#     tokens = deal_caps(tokens)\n",
    "#     return ' '.join(tokens)"
   ]
  },
  {
   "cell_type": "code",
   "execution_count": 10,
   "metadata": {},
   "outputs": [],
   "source": [
    "# class HinglishTokenizer(BaseTokenizer):\n",
    "#     def __init__(self, lang:str):\n",
    "#         self.lang = lang\n",
    "#         self.sp = spm.SentencePieceProcessor()\n",
    "#         self.sp.Load(str(path/\"../tokenizer/hinglish_spm.model\"))\n",
    "        \n",
    "#     def tokenizer(self, t:str) -> List[str]:\n",
    "#         return self.sp.EncodeAsPieces(t)"
   ]
  },
  {
   "cell_type": "code",
   "execution_count": 11,
   "metadata": {},
   "outputs": [],
   "source": [
    "sp = spm.SentencePieceProcessor()\n",
    "sp.Load(str(path/\"../tokenizer/hinglish_spm.model\"))\n",
    "itos = [sp.IdToPiece(int(i)) for i in range(60000)]"
   ]
  },
  {
   "cell_type": "code",
   "execution_count": 12,
   "metadata": {},
   "outputs": [
    {
     "data": {
      "text/plain": [
       "60000"
      ]
     },
     "execution_count": 12,
     "metadata": {},
     "output_type": "execute_result"
    }
   ],
   "source": [
    "len(itos)"
   ]
  },
  {
   "cell_type": "code",
   "execution_count": 13,
   "metadata": {},
   "outputs": [
    {
     "data": {
      "text/plain": [
       "['xxunk',\n",
       " 'xxbos',\n",
       " 'xxeos',\n",
       " 'xxpad',\n",
       " 'xxfld',\n",
       " 'xxmaj',\n",
       " 'xxup',\n",
       " 'xxrep',\n",
       " 'xxwrep',\n",
       " '.',\n",
       " '▁the',\n",
       " ',',\n",
       " '▁ke',\n",
       " '▁he',\n",
       " '▁main',\n",
       " '▁of',\n",
       " '▁in',\n",
       " '▁kii',\n",
       " '▁to',\n",
       " '▁is']"
      ]
     },
     "execution_count": 13,
     "metadata": {},
     "output_type": "execute_result"
    }
   ],
   "source": [
    "itos[:20]"
   ]
  },
  {
   "cell_type": "code",
   "execution_count": 14,
   "metadata": {},
   "outputs": [],
   "source": [
    "# 60,000 is the vocab size that we chose in sentencepiece\n",
    "hinglish_vocab = Vocab(itos)"
   ]
  },
  {
   "cell_type": "code",
   "execution_count": 15,
   "metadata": {},
   "outputs": [],
   "source": [
    "tokenizer = Tokenizer(lang='hien', tok_func=HinglishTokenizer)"
   ]
  },
  {
   "cell_type": "code",
   "execution_count": 16,
   "metadata": {},
   "outputs": [],
   "source": [
    "tokenizer.pre_rules.append(handle_all_caps)\n",
    "tokenizer.pre_rules.append(handle_upper_case_first_letter)"
   ]
  },
  {
   "cell_type": "code",
   "execution_count": 17,
   "metadata": {},
   "outputs": [
    {
     "data": {
      "text/plain": [
       "(['xxunk',\n",
       "  'xxpad',\n",
       "  'xxbos',\n",
       "  'xxeos',\n",
       "  'xxfld',\n",
       "  'xxmaj',\n",
       "  'xxup',\n",
       "  'xxrep',\n",
       "  'xxwrep'],\n",
       " [<function fastai.text.transform.fix_html(x:str) -> str>,\n",
       "  <function fastai.text.transform.replace_rep(t:str) -> str>,\n",
       "  <function fastai.text.transform.replace_wrep(t:str) -> str>,\n",
       "  <function fastai.text.transform.spec_add_spaces(t:str) -> str>,\n",
       "  <function fastai.text.transform.rm_useless_spaces(t:str) -> str>,\n",
       "  <function inltk.tokenizer.handle_all_caps(t:str) -> str>,\n",
       "  <function inltk.tokenizer.handle_upper_case_first_letter(t:str) -> str>],\n",
       " [<function fastai.text.transform.replace_all_caps(x:Collection[str]) -> Collection[str]>,\n",
       "  <function fastai.text.transform.deal_caps(x:Collection[str]) -> Collection[str]>])"
      ]
     },
     "execution_count": 17,
     "metadata": {},
     "output_type": "execute_result"
    }
   ],
   "source": [
    "tokenizer.special_cases, tokenizer.pre_rules, tokenizer.post_rules"
   ]
  },
  {
   "cell_type": "code",
   "execution_count": 18,
   "metadata": {},
   "outputs": [],
   "source": [
    "# tokenize externally because of RAM problems"
   ]
  },
  {
   "cell_type": "code",
   "execution_count": 19,
   "metadata": {},
   "outputs": [],
   "source": [
    "# def get_tokens_from_file(filepath) -> List[str]:\n",
    "#     text = open_text(filepath)\n",
    "#     return tokenizer.process_all([text])[0]"
   ]
  },
  {
   "cell_type": "code",
   "execution_count": 20,
   "metadata": {},
   "outputs": [],
   "source": [
    "# base_dir = Path('/home/gaurav/PycharmProjects/code-mixed/language_model/data')\n",
    "\n",
    "# src_dir = base_dir / 'train'\n",
    "# files = src_dir.ls()\n",
    "# for file in tqdm(files):\n",
    "#     gc.collect()\n",
    "#     trn_tokens = get_tokens_from_file(file)\n",
    "#     filename = str(file).split('/')[-1]\n",
    "#     with open(base_dir/f'trn_tokens/{filename}.pkl', 'wb') as f:\n",
    "#         pickle.dump(trn_tokens, f)\n",
    "# #     break\n",
    "\n",
    "\n",
    "    \n",
    "# src_dir = base_dir / 'valid'\n",
    "# files = src_dir.ls()\n",
    "# for file in tqdm(files):\n",
    "#     gc.collect()\n",
    "#     val_tokens = get_tokens_from_file(file)\n",
    "#     filename = str(file).split('/')[-1]\n",
    "#     with open(base_dir/f'val_tokens/{filename}.pkl', 'wb') as f:\n",
    "#         pickle.dump(val_tokens, f)\n",
    "# #     break\n",
    "\n"
   ]
  },
  {
   "cell_type": "code",
   "execution_count": 21,
   "metadata": {},
   "outputs": [],
   "source": [
    "tokens = tokenizer.process_all(['Tell me about TOUR self, mujhe jaanna hai'])"
   ]
  },
  {
   "cell_type": "code",
   "execution_count": 22,
   "metadata": {},
   "outputs": [
    {
     "data": {
      "text/plain": [
       "'▁xxmaj▁tell▁me▁about▁xxup▁tour▁self,▁mujhe▁jaanna▁hai'"
      ]
     },
     "execution_count": 22,
     "metadata": {},
     "output_type": "execute_result"
    }
   ],
   "source": [
    "''.join(tokens[0])"
   ]
  },
  {
   "cell_type": "code",
   "execution_count": 23,
   "metadata": {},
   "outputs": [
    {
     "data": {
      "text/plain": [
       "PosixPath('/home/gaurav/PycharmProjects/code-mixed/language_model')"
      ]
     },
     "execution_count": 23,
     "metadata": {},
     "output_type": "execute_result"
    }
   ],
   "source": [
    "path"
   ]
  },
  {
   "cell_type": "code",
   "execution_count": 24,
   "metadata": {},
   "outputs": [
    {
     "name": "stdout",
     "output_type": "stream",
     "text": [
      "4198 3156\n"
     ]
    }
   ],
   "source": [
    "trn_files = [str(file) for file in (path/'data'/'trn_tokens').ls()]\n",
    "trn_files.sort()\n",
    "val_files = [str(file) for file in (path/'data'/'val_tokens').ls()]\n",
    "val_files.sort()\n",
    "print(len(trn_files), len(val_files))"
   ]
  },
  {
   "cell_type": "code",
   "execution_count": 25,
   "metadata": {},
   "outputs": [],
   "source": [
    "num_processor = NumericalizeProcessor(vocab=hinglish_vocab)"
   ]
  },
  {
   "cell_type": "code",
   "execution_count": 26,
   "metadata": {},
   "outputs": [
    {
     "data": {
      "text/plain": [
       "[33, 5, 619, 357, 119, 33, 6, 2263, 4294, 11, 480, 1511, 1333, 32]"
      ]
     },
     "execution_count": 26,
     "metadata": {},
     "output_type": "execute_result"
    }
   ],
   "source": [
    "sp.encode_as_ids('▁xxmaj▁tell▁me▁about▁xxup▁tour▁self,▁mujhe▁jaanna▁hai')"
   ]
  },
  {
   "cell_type": "code",
   "execution_count": 27,
   "metadata": {},
   "outputs": [
    {
     "data": {
      "text/plain": [
       "array([  33,    5,  619,  357,  119,   33,    6, 2263, 4294,   11,  480, 1511, 1333,   32])"
      ]
     },
     "execution_count": 27,
     "metadata": {},
     "output_type": "execute_result"
    }
   ],
   "source": [
    "num_processor.process_one(tokens[0])"
   ]
  },
  {
   "cell_type": "code",
   "execution_count": 28,
   "metadata": {},
   "outputs": [
    {
     "name": "stderr",
     "output_type": "stream",
     "text": [
      "100%|██████████| 4198/4198 [02:29<00:00, 28.07it/s]\n"
     ]
    }
   ],
   "source": [
    "trn_ids = []\n",
    "for file in tqdm(trn_files):\n",
    "    with open(file, 'rb') as f:\n",
    "        trn_tokens = pickle.load(f)\n",
    "    trn_ids.append(num_processor.process_one(trn_tokens))"
   ]
  },
  {
   "cell_type": "code",
   "execution_count": 29,
   "metadata": {},
   "outputs": [
    {
     "name": "stderr",
     "output_type": "stream",
     "text": [
      "100%|██████████| 3156/3156 [00:45<00:00, 68.96it/s]"
     ]
    },
    {
     "name": "stdout",
     "output_type": "stream",
     "text": [
      "3156\n"
     ]
    },
    {
     "name": "stderr",
     "output_type": "stream",
     "text": [
      "\n"
     ]
    }
   ],
   "source": [
    "val_ids = []\n",
    "for file in tqdm(val_files):\n",
    "    with open(file, 'rb') as f:\n",
    "        val_tokens = pickle.load(f)\n",
    "        val_ids.append(num_processor.process_one(val_tokens))\n",
    "print(len(val_ids))"
   ]
  },
  {
   "cell_type": "code",
   "execution_count": 30,
   "metadata": {},
   "outputs": [
    {
     "name": "stdout",
     "output_type": "stream",
     "text": [
      "131038\n",
      "143625\n",
      "130420\n",
      "138297\n",
      "179156\n",
      "148526\n",
      "131233\n",
      "138060\n",
      "132048\n",
      "133012\n"
     ]
    }
   ],
   "source": [
    "for ids in trn_ids[:10]:\n",
    "    print(len(ids))"
   ]
  },
  {
   "cell_type": "code",
   "execution_count": 31,
   "metadata": {},
   "outputs": [
    {
     "name": "stdout",
     "output_type": "stream",
     "text": [
      "45115\n",
      "44294\n",
      "49315\n",
      "40019\n",
      "46006\n",
      "44874\n",
      "46398\n",
      "42167\n",
      "44112\n",
      "47782\n"
     ]
    }
   ],
   "source": [
    "for ids in val_ids[:10]:\n",
    "    print(len(ids))"
   ]
  },
  {
   "cell_type": "code",
   "execution_count": 32,
   "metadata": {},
   "outputs": [
    {
     "name": "stdout",
     "output_type": "stream",
     "text": [
      "4198 3156\n"
     ]
    }
   ],
   "source": [
    "print(len(trn_ids), len(val_ids))"
   ]
  },
  {
   "cell_type": "code",
   "execution_count": 33,
   "metadata": {},
   "outputs": [],
   "source": [
    "data_lm = TextLMDataBunch.from_ids(path=path/'data', train_ids=trn_ids , valid_ids=val_ids, vocab=hinglish_vocab, bs=96)"
   ]
  },
  {
   "cell_type": "code",
   "execution_count": 34,
   "metadata": {},
   "outputs": [
    {
     "data": {
      "text/plain": [
       "96"
      ]
     },
     "execution_count": 34,
     "metadata": {},
     "output_type": "execute_result"
    }
   ],
   "source": [
    "data_lm.batch_size"
   ]
  },
  {
   "cell_type": "code",
   "execution_count": 35,
   "metadata": {
    "scrolled": true
   },
   "outputs": [],
   "source": [
    "# data_lm.save()"
   ]
  },
  {
   "cell_type": "code",
   "execution_count": 36,
   "metadata": {},
   "outputs": [
    {
     "data": {
      "text/html": [
       "<table border=\"1\" class=\"dataframe\">\n",
       "  <thead>\n",
       "    <tr style=\"text-align: right;\">\n",
       "      <th>idx</th>\n",
       "      <th>text</th>\n",
       "    </tr>\n",
       "  </thead>\n",
       "  <tbody>\n",
       "    <tr>\n",
       "      <td>0</td>\n",
       "      <td>▁chaahate ▁hai ▁entrens ▁pariksha ▁main ▁kisi ▁bhi ▁tarah ▁kii ▁pareshaani ▁na ▁ho . ▁ xxmaj ▁for ▁this , ▁you ▁must ▁know ▁these ▁12 ▁important ▁things ▁first . ▁- ▁neet ▁kii ▁pravesh ▁pariksha ▁ke ▁liye ▁ummidavaar ▁online ▁registration ▁9 ▁march ▁2018 ▁tak ▁kar ▁sakate ▁hai . ▁ xxup ▁neet -2018 ▁exam ▁notification ▁will ▁be ▁released , ▁exam ▁will ▁be ▁held ▁on ▁ xxmaj ▁may ▁6 ▁- ▁ xxmaj ▁candidates ▁can ▁submit</td>\n",
       "    </tr>\n",
       "    <tr>\n",
       "      <td>1</td>\n",
       "      <td>▁olympics . ▁iske ▁saath ▁hi ▁video ▁main ▁trump ▁par ▁un ▁baton ▁ko ▁lekar ▁kataaksh ▁kiya ▁gaya ▁he ▁jiske ▁liye ▁vah ▁vivaadon ▁main ▁ghire ▁rahe . ▁ xxmaj ▁not ▁only ▁this , ▁the ▁presence ▁of ▁ xxmaj ▁indians ▁in ▁every ▁region ▁of ▁ xxmaj ▁america ▁has ▁also ▁been ▁pinch ed , ▁be ▁it ▁the ▁ xxup ▁ceo ▁position ▁of ▁ xxmaj ▁american ▁software ▁companies ▁or ▁ xxmaj ▁priyanka ▁ xxmaj ▁chopra</td>\n",
       "    </tr>\n",
       "    <tr>\n",
       "      <td>2</td>\n",
       "      <td>▁istife ▁se ▁khaali ▁hone ▁vaali ▁seat ▁par ▁do - teen ▁maheene ▁main ▁upachunaav ▁hona ▁tay ▁he . ▁ xxmaj ▁according ▁to ▁sources , ▁the ▁ xxup ▁bjp ▁does ▁not ▁want ▁to ▁destabilize ▁the ▁state ▁government ▁at ▁the ▁moment , ▁but ▁in ▁the ▁by - election ▁of ▁ xxmaj ▁rajya ▁ xxmaj ▁sabha ▁by ▁making ▁ xxmaj ▁satpal ▁ xxmaj ▁maharaj ▁a ▁candidate , ▁it ▁will ▁spoil ▁the ▁game ▁of ▁</td>\n",
       "    </tr>\n",
       "    <tr>\n",
       "      <td>3</td>\n",
       "      <td>▁naa ▁hi ▁chunaav ▁ke ▁baad ▁koi ▁gathbandhan ▁hua ▁he . ▁ xxmaj ▁it ▁remains ▁to ▁be ▁seen ▁whether ▁the ▁hostility ▁caused ▁by ▁the ▁guest ▁house ▁scandal ▁in ▁the ▁ xxup ▁sp - bsp ▁changes . ▁upi ▁kii ▁raajnneeti ▁main ▁is ▁cond ▁ko ▁ guestaouse ▁cond ▁kaha ▁jaataa ▁he ▁or ▁ye ▁bharat ▁kii ▁raajnneeti ▁ke ▁maathe ▁par ▁kalank ▁he . ▁ xxmaj ▁mayawati ▁herself ▁started ▁calling ▁ xxmaj ▁brahma datta ▁</td>\n",
       "    </tr>\n",
       "    <tr>\n",
       "      <td>4</td>\n",
       "      <td>▁ temba ▁bawuma , ▁quinton ▁de cac , ▁te yun is ▁di ▁bru en , ▁abi ▁di vil yrs , ▁dean ▁algar , ▁keshav ▁maharaj , ▁aden ▁markram , ▁morne ▁morkal , ▁kris ▁morris , ▁and il ▁fel uk va yo , ▁ varnon ▁philander , ▁ cagiso ▁rabada , ▁del ▁sten . ▁ xxmaj ▁on ▁ xxmaj ▁september ▁9, ▁the ▁ xxmaj ▁telecom ▁ xxmaj ▁department ▁ xxup ▁(</td>\n",
       "    </tr>\n",
       "  </tbody>\n",
       "</table>"
      ],
      "text/plain": [
       "<IPython.core.display.HTML object>"
      ]
     },
     "metadata": {},
     "output_type": "display_data"
    }
   ],
   "source": [
    "data_lm.show_batch()"
   ]
  },
  {
   "cell_type": "code",
   "execution_count": 37,
   "metadata": {},
   "outputs": [
    {
     "data": {
      "text/plain": [
       "84297"
      ]
     },
     "execution_count": 37,
     "metadata": {},
     "output_type": "execute_result"
    }
   ],
   "source": [
    "len(data_lm.train_dl)"
   ]
  },
  {
   "cell_type": "code",
   "execution_count": 38,
   "metadata": {},
   "outputs": [
    {
     "data": {
      "text/plain": [
       "23918"
      ]
     },
     "execution_count": 38,
     "metadata": {},
     "output_type": "execute_result"
    }
   ],
   "source": [
    "len(data_lm.valid_dl)"
   ]
  },
  {
   "cell_type": "code",
   "execution_count": 39,
   "metadata": {},
   "outputs": [
    {
     "data": {
      "text/plain": [
       "60000"
      ]
     },
     "execution_count": 39,
     "metadata": {},
     "output_type": "execute_result"
    }
   ],
   "source": [
    "len(data_lm.vocab.itos)"
   ]
  },
  {
   "cell_type": "code",
   "execution_count": 40,
   "metadata": {},
   "outputs": [],
   "source": [
    "learn = language_model_learner(data_lm, AWD_LSTM, pretrained=False)"
   ]
  },
  {
   "cell_type": "code",
   "execution_count": 41,
   "metadata": {},
   "outputs": [
    {
     "data": {
      "text/plain": [
       "0"
      ]
     },
     "execution_count": 41,
     "metadata": {},
     "output_type": "execute_result"
    }
   ],
   "source": [
    "gc.collect()"
   ]
  },
  {
   "cell_type": "code",
   "execution_count": 42,
   "metadata": {},
   "outputs": [
    {
     "data": {
      "text/plain": [
       "SequentialRNN(\n",
       "  (0): AWD_LSTM(\n",
       "    (encoder): Embedding(60000, 400, padding_idx=1)\n",
       "    (encoder_dp): EmbeddingDropout(\n",
       "      (emb): Embedding(60000, 400, padding_idx=1)\n",
       "    )\n",
       "    (rnns): ModuleList(\n",
       "      (0): WeightDropout(\n",
       "        (module): LSTM(400, 1152, batch_first=True)\n",
       "      )\n",
       "      (1): WeightDropout(\n",
       "        (module): LSTM(1152, 1152, batch_first=True)\n",
       "      )\n",
       "      (2): WeightDropout(\n",
       "        (module): LSTM(1152, 400, batch_first=True)\n",
       "      )\n",
       "    )\n",
       "    (input_dp): RNNDropout()\n",
       "    (hidden_dps): ModuleList(\n",
       "      (0): RNNDropout()\n",
       "      (1): RNNDropout()\n",
       "      (2): RNNDropout()\n",
       "    )\n",
       "  )\n",
       "  (1): LinearDecoder(\n",
       "    (decoder): Linear(in_features=400, out_features=60000, bias=True)\n",
       "    (output_dp): RNNDropout()\n",
       "  )\n",
       ")"
      ]
     },
     "execution_count": 42,
     "metadata": {},
     "output_type": "execute_result"
    }
   ],
   "source": [
    "learn.model"
   ]
  },
  {
   "cell_type": "code",
   "execution_count": 43,
   "metadata": {},
   "outputs": [
    {
     "data": {
      "text/html": [
       "\n",
       "    <div>\n",
       "        <style>\n",
       "            /* Turns off some styling */\n",
       "            progress {\n",
       "                /* gets rid of default border in Firefox and Opera. */\n",
       "                border: none;\n",
       "                /* Needs to be in here for Safari polyfill so background images work as expected. */\n",
       "                background-size: auto;\n",
       "            }\n",
       "            .progress-bar-interrupted, .progress-bar-interrupted::-webkit-progress-bar {\n",
       "                background: #F44336;\n",
       "            }\n",
       "        </style>\n",
       "      <progress value='0' class='' max='1' style='width:300px; height:20px; vertical-align: middle;'></progress>\n",
       "      0.00% [0/1 00:00<00:00]\n",
       "    </div>\n",
       "    \n",
       "<table border=\"1\" class=\"dataframe\">\n",
       "  <thead>\n",
       "    <tr style=\"text-align: left;\">\n",
       "      <th>epoch</th>\n",
       "      <th>train_loss</th>\n",
       "      <th>valid_loss</th>\n",
       "      <th>accuracy</th>\n",
       "      <th>time</th>\n",
       "    </tr>\n",
       "  </thead>\n",
       "  <tbody>\n",
       "  </tbody>\n",
       "</table><p>\n",
       "\n",
       "    <div>\n",
       "        <style>\n",
       "            /* Turns off some styling */\n",
       "            progress {\n",
       "                /* gets rid of default border in Firefox and Opera. */\n",
       "                border: none;\n",
       "                /* Needs to be in here for Safari polyfill so background images work as expected. */\n",
       "                background-size: auto;\n",
       "            }\n",
       "            .progress-bar-interrupted, .progress-bar-interrupted::-webkit-progress-bar {\n",
       "                background: #F44336;\n",
       "            }\n",
       "        </style>\n",
       "      <progress value='99' class='' max='84297' style='width:300px; height:20px; vertical-align: middle;'></progress>\n",
       "      0.12% [99/84297 00:31<7:30:36 24.8105]\n",
       "    </div>\n",
       "    "
      ],
      "text/plain": [
       "<IPython.core.display.HTML object>"
      ]
     },
     "metadata": {},
     "output_type": "display_data"
    },
    {
     "name": "stdout",
     "output_type": "stream",
     "text": [
      "LR Finder is complete, type {learner_name}.recorder.plot() to see the graph.\n"
     ]
    }
   ],
   "source": [
    "learn.lr_find()"
   ]
  },
  {
   "cell_type": "code",
   "execution_count": 44,
   "metadata": {},
   "outputs": [
    {
     "data": {
      "image/png": "[encoded data removed]",
      "text/plain": [
       "<Figure size 432x288 with 1 Axes>"
      ]
     },
     "metadata": {
      "needs_background": "light"
     },
     "output_type": "display_data"
    }
   ],
   "source": [
    "learn.recorder.plot()"
   ]
  },
  {
   "cell_type": "code",
   "execution_count": 45,
   "metadata": {},
   "outputs": [
    {
     "data": {
      "text/html": [
       "<table border=\"1\" class=\"dataframe\">\n",
       "  <thead>\n",
       "    <tr style=\"text-align: left;\">\n",
       "      <th>epoch</th>\n",
       "      <th>train_loss</th>\n",
       "      <th>valid_loss</th>\n",
       "      <th>accuracy</th>\n",
       "      <th>time</th>\n",
       "    </tr>\n",
       "  </thead>\n",
       "  <tbody>\n",
       "    <tr>\n",
       "      <td>0</td>\n",
       "      <td>6.956141</td>\n",
       "      <td>7.456541</td>\n",
       "      <td>0.109333</td>\n",
       "      <td>8:25:49</td>\n",
       "    </tr>\n",
       "    <tr>\n",
       "      <td>1</td>\n",
       "      <td>3.892329</td>\n",
       "      <td>5.187357</td>\n",
       "      <td>0.274404</td>\n",
       "      <td>8:28:38</td>\n",
       "    </tr>\n",
       "    <tr>\n",
       "      <td>2</td>\n",
       "      <td>3.640175</td>\n",
       "      <td>5.071607</td>\n",
       "      <td>0.278485</td>\n",
       "      <td>8:29:54</td>\n",
       "    </tr>\n",
       "    <tr>\n",
       "      <td>3</td>\n",
       "      <td>3.484801</td>\n",
       "      <td>4.950999</td>\n",
       "      <td>0.288763</td>\n",
       "      <td>8:29:36</td>\n",
       "    </tr>\n",
       "    <tr>\n",
       "      <td>4</td>\n",
       "      <td>3.496101</td>\n",
       "      <td>4.898003</td>\n",
       "      <td>0.294362</td>\n",
       "      <td>8:28:20</td>\n",
       "    </tr>\n",
       "    <tr>\n",
       "      <td>5</td>\n",
       "      <td>3.363310</td>\n",
       "      <td>4.818655</td>\n",
       "      <td>0.298474</td>\n",
       "      <td>8:31:04</td>\n",
       "    </tr>\n",
       "    <tr>\n",
       "      <td>6</td>\n",
       "      <td>3.310468</td>\n",
       "      <td>4.711946</td>\n",
       "      <td>0.307213</td>\n",
       "      <td>8:33:19</td>\n",
       "    </tr>\n",
       "    <tr>\n",
       "      <td>7</td>\n",
       "      <td>3.263540</td>\n",
       "      <td>4.613399</td>\n",
       "      <td>0.313613</td>\n",
       "      <td>8:32:39</td>\n",
       "    </tr>\n",
       "    <tr>\n",
       "      <td>8</td>\n",
       "      <td>3.179731</td>\n",
       "      <td>4.509992</td>\n",
       "      <td>0.322672</td>\n",
       "      <td>8:32:48</td>\n",
       "    </tr>\n",
       "    <tr>\n",
       "      <td>9</td>\n",
       "      <td>3.170985</td>\n",
       "      <td>4.460629</td>\n",
       "      <td>0.326806</td>\n",
       "      <td>8:33:31</td>\n",
       "    </tr>\n",
       "  </tbody>\n",
       "</table>"
      ],
      "text/plain": [
       "<IPython.core.display.HTML object>"
      ]
     },
     "metadata": {},
     "output_type": "display_data"
    },
    {
     "name": "stdout",
     "output_type": "stream",
     "text": [
      "Better model found at epoch 0 with valid_loss value: 7.456540584564209.\n",
      "Better model found at epoch 1 with valid_loss value: 5.187356948852539.\n",
      "Better model found at epoch 2 with valid_loss value: 5.071606636047363.\n",
      "Better model found at epoch 3 with valid_loss value: 4.9509992599487305.\n",
      "Better model found at epoch 4 with valid_loss value: 4.898003101348877.\n",
      "Better model found at epoch 5 with valid_loss value: 4.818655490875244.\n",
      "Better model found at epoch 6 with valid_loss value: 4.711945533752441.\n",
      "Better model found at epoch 7 with valid_loss value: 4.613399028778076.\n",
      "Better model found at epoch 8 with valid_loss value: 4.509991645812988.\n",
      "Better model found at epoch 9 with valid_loss value: 4.460628986358643.\n"
     ]
    }
   ],
   "source": [
    "learn.fit_one_cycle(10, 1e-2, callbacks=[callbacks.SaveModelCallback(learn, every='improvement', monitor='valid_loss', name='best_model')])"
   ]
  },
  {
   "cell_type": "code",
   "execution_count": 48,
   "metadata": {},
   "outputs": [],
   "source": [
    "TEXT = \"jiske_liye_unhe\"\n",
    "N_WORDS = 40\n",
    "N_SENTENCES = 2"
   ]
  },
  {
   "cell_type": "code",
   "execution_count": 49,
   "metadata": {},
   "outputs": [
    {
     "name": "stdout",
     "output_type": "stream",
     "text": [
      "jiske_liye_unhe ▁ ▁or ▁the ▁ ▁ministry ▁has ▁chosen ▁ ▁point ▁ ▁one ▁for ▁electoral ▁gains . ▁ ▁priest ) ▁r ▁ ▁patil ▁has ▁been ▁appointed ▁as ▁ ▁NGO ▁ ▁chief ▁( ▁safal )\n",
      "jiske_liye_unhe ▁ ▁remains ▁speculation , ▁not ▁a ▁statement , ▁but ▁the ▁question ▁is ▁again ▁that ▁the ▁ ▁maharashtra ▁ ▁state ▁ ▁congress ▁ ▁committee ▁ ▁( b pcc ) ▁has ▁lost ▁the ▁election . ▁adarsh\n"
     ]
    }
   ],
   "source": [
    "print(\"\\n\".join(learn.predict(TEXT, N_WORDS, temperature=0.9) for _ in range(N_SENTENCES)))"
   ]
  },
  {
   "cell_type": "code",
   "execution_count": 50,
   "metadata": {},
   "outputs": [
    {
     "data": {
      "text/plain": [
       "86.48750909632939"
      ]
     },
     "execution_count": 50,
     "metadata": {},
     "output_type": "execute_result"
    }
   ],
   "source": [
    "np.exp(4.46)"
   ]
  },
  {
   "cell_type": "code",
   "execution_count": 51,
   "metadata": {},
   "outputs": [],
   "source": [
    "defaults.device = torch.device('cpu')\n",
    "learn.model.eval()\n",
    "learn.export()"
   ]
  },
  {
   "cell_type": "code",
   "execution_count": 52,
   "metadata": {},
   "outputs": [
    {
     "data": {
      "text/plain": [
       "PosixPath('/home/gaurav/PycharmProjects/code-mixed/language_model')"
      ]
     },
     "execution_count": 52,
     "metadata": {},
     "output_type": "execute_result"
    }
   ],
   "source": [
    "path"
   ]
  },
  {
   "cell_type": "code",
   "execution_count": 36,
   "metadata": {},
   "outputs": [],
   "source": [
    "# learn = load_learner(path / 'HindiDataset')"
   ]
  },
  {
   "cell_type": "code",
   "execution_count": 53,
   "metadata": {},
   "outputs": [],
   "source": [
    "encoder = get_model(learn.model)[0]"
   ]
  },
  {
   "cell_type": "code",
   "execution_count": 54,
   "metadata": {},
   "outputs": [
    {
     "data": {
      "text/plain": [
       "torch.Size([60000, 400])"
      ]
     },
     "execution_count": 54,
     "metadata": {},
     "output_type": "execute_result"
    }
   ],
   "source": [
    "encoder.state_dict()['encoder.weight'].shape"
   ]
  },
  {
   "cell_type": "code",
   "execution_count": 55,
   "metadata": {},
   "outputs": [],
   "source": [
    "embeddings = encoder.state_dict()['encoder.weight']"
   ]
  },
  {
   "cell_type": "code",
   "execution_count": 56,
   "metadata": {},
   "outputs": [],
   "source": [
    "embeddings = np.array(embeddings)"
   ]
  },
  {
   "cell_type": "code",
   "execution_count": 57,
   "metadata": {},
   "outputs": [
    {
     "data": {
      "text/plain": [
       "(400,)"
      ]
     },
     "execution_count": 57,
     "metadata": {},
     "output_type": "execute_result"
    }
   ],
   "source": [
    "embeddings[0].shape"
   ]
  },
  {
   "cell_type": "code",
   "execution_count": 58,
   "metadata": {},
   "outputs": [],
   "source": [
    "df = pd.DataFrame(embeddings)"
   ]
  },
  {
   "cell_type": "code",
   "execution_count": 59,
   "metadata": {},
   "outputs": [
    {
     "data": {
      "text/plain": [
       "(60000, 400)"
      ]
     },
     "execution_count": 59,
     "metadata": {},
     "output_type": "execute_result"
    }
   ],
   "source": [
    "df.shape"
   ]
  },
  {
   "cell_type": "code",
   "execution_count": 60,
   "metadata": {},
   "outputs": [],
   "source": [
    "df.to_csv('ulmfit_embeddings.tsv', sep='\\t', index=False, header=False)"
   ]
  },
  {
   "cell_type": "code",
   "execution_count": 61,
   "metadata": {},
   "outputs": [
    {
     "data": {
      "text/html": [
       "<div>\n",
       "<style scoped>\n",
       "    .dataframe tbody tr th:only-of-type {\n",
       "        vertical-align: middle;\n",
       "    }\n",
       "\n",
       "    .dataframe tbody tr th {\n",
       "        vertical-align: top;\n",
       "    }\n",
       "\n",
       "    .dataframe thead th {\n",
       "        text-align: right;\n",
       "    }\n",
       "</style>\n",
       "<table border=\"1\" class=\"dataframe\">\n",
       "  <thead>\n",
       "    <tr style=\"text-align: right;\">\n",
       "      <th></th>\n",
       "      <th>0</th>\n",
       "      <th>1</th>\n",
       "      <th>2</th>\n",
       "      <th>3</th>\n",
       "      <th>4</th>\n",
       "      <th>5</th>\n",
       "      <th>6</th>\n",
       "      <th>7</th>\n",
       "      <th>8</th>\n",
       "      <th>9</th>\n",
       "      <th>...</th>\n",
       "      <th>390</th>\n",
       "      <th>391</th>\n",
       "      <th>392</th>\n",
       "      <th>393</th>\n",
       "      <th>394</th>\n",
       "      <th>395</th>\n",
       "      <th>396</th>\n",
       "      <th>397</th>\n",
       "      <th>398</th>\n",
       "      <th>399</th>\n",
       "    </tr>\n",
       "  </thead>\n",
       "  <tbody>\n",
       "    <tr>\n",
       "      <th>0</th>\n",
       "      <td>-0.741087</td>\n",
       "      <td>-0.311225</td>\n",
       "      <td>0.060546</td>\n",
       "      <td>-0.178954</td>\n",
       "      <td>-0.957294</td>\n",
       "      <td>-1.238322</td>\n",
       "      <td>-2.435595</td>\n",
       "      <td>0.140907</td>\n",
       "      <td>-1.877327</td>\n",
       "      <td>-1.094916</td>\n",
       "      <td>...</td>\n",
       "      <td>1.254112</td>\n",
       "      <td>-0.841178</td>\n",
       "      <td>-0.196198</td>\n",
       "      <td>0.065344</td>\n",
       "      <td>-0.214708</td>\n",
       "      <td>-0.184470</td>\n",
       "      <td>-0.052114</td>\n",
       "      <td>0.156518</td>\n",
       "      <td>0.079025</td>\n",
       "      <td>0.057311</td>\n",
       "    </tr>\n",
       "    <tr>\n",
       "      <th>1</th>\n",
       "      <td>-0.002919</td>\n",
       "      <td>-0.032116</td>\n",
       "      <td>-0.062614</td>\n",
       "      <td>-0.080859</td>\n",
       "      <td>-0.172717</td>\n",
       "      <td>-0.240557</td>\n",
       "      <td>-0.244994</td>\n",
       "      <td>-0.102237</td>\n",
       "      <td>0.113351</td>\n",
       "      <td>-1.658672</td>\n",
       "      <td>...</td>\n",
       "      <td>0.222872</td>\n",
       "      <td>-0.730414</td>\n",
       "      <td>-0.186458</td>\n",
       "      <td>0.058611</td>\n",
       "      <td>-0.068904</td>\n",
       "      <td>-0.072656</td>\n",
       "      <td>0.023373</td>\n",
       "      <td>0.067562</td>\n",
       "      <td>0.036825</td>\n",
       "      <td>0.326601</td>\n",
       "    </tr>\n",
       "    <tr>\n",
       "      <th>2</th>\n",
       "      <td>-0.002919</td>\n",
       "      <td>-0.032116</td>\n",
       "      <td>-0.062614</td>\n",
       "      <td>-0.080859</td>\n",
       "      <td>-0.172717</td>\n",
       "      <td>-0.240557</td>\n",
       "      <td>-0.244994</td>\n",
       "      <td>-0.102237</td>\n",
       "      <td>0.113351</td>\n",
       "      <td>-1.658672</td>\n",
       "      <td>...</td>\n",
       "      <td>0.222872</td>\n",
       "      <td>-0.730414</td>\n",
       "      <td>-0.186458</td>\n",
       "      <td>0.058611</td>\n",
       "      <td>-0.068904</td>\n",
       "      <td>-0.072656</td>\n",
       "      <td>0.023373</td>\n",
       "      <td>0.067562</td>\n",
       "      <td>0.036825</td>\n",
       "      <td>0.326601</td>\n",
       "    </tr>\n",
       "    <tr>\n",
       "      <th>3</th>\n",
       "      <td>-0.002919</td>\n",
       "      <td>-0.032116</td>\n",
       "      <td>-0.062614</td>\n",
       "      <td>-0.080859</td>\n",
       "      <td>-0.172717</td>\n",
       "      <td>-0.240557</td>\n",
       "      <td>-0.244994</td>\n",
       "      <td>-0.102237</td>\n",
       "      <td>0.113351</td>\n",
       "      <td>-1.658672</td>\n",
       "      <td>...</td>\n",
       "      <td>0.222872</td>\n",
       "      <td>-0.730414</td>\n",
       "      <td>-0.186458</td>\n",
       "      <td>0.058611</td>\n",
       "      <td>-0.068904</td>\n",
       "      <td>-0.072656</td>\n",
       "      <td>0.023373</td>\n",
       "      <td>0.067562</td>\n",
       "      <td>0.036825</td>\n",
       "      <td>0.326601</td>\n",
       "    </tr>\n",
       "    <tr>\n",
       "      <th>4</th>\n",
       "      <td>-0.002919</td>\n",
       "      <td>-0.032116</td>\n",
       "      <td>-0.062614</td>\n",
       "      <td>-0.080859</td>\n",
       "      <td>-0.172717</td>\n",
       "      <td>-0.240557</td>\n",
       "      <td>-0.244994</td>\n",
       "      <td>-0.102237</td>\n",
       "      <td>0.113351</td>\n",
       "      <td>-1.658672</td>\n",
       "      <td>...</td>\n",
       "      <td>0.222872</td>\n",
       "      <td>-0.730414</td>\n",
       "      <td>-0.186458</td>\n",
       "      <td>0.058611</td>\n",
       "      <td>-0.068904</td>\n",
       "      <td>-0.072656</td>\n",
       "      <td>0.023373</td>\n",
       "      <td>0.067562</td>\n",
       "      <td>0.036825</td>\n",
       "      <td>0.326601</td>\n",
       "    </tr>\n",
       "  </tbody>\n",
       "</table>\n",
       "<p>5 rows × 400 columns</p>\n",
       "</div>"
      ],
      "text/plain": [
       "        0         1         2         3         4         5         6    \\\n",
       "0 -0.741087 -0.311225  0.060546 -0.178954 -0.957294 -1.238322 -2.435595   \n",
       "1 -0.002919 -0.032116 -0.062614 -0.080859 -0.172717 -0.240557 -0.244994   \n",
       "2 -0.002919 -0.032116 -0.062614 -0.080859 -0.172717 -0.240557 -0.244994   \n",
       "3 -0.002919 -0.032116 -0.062614 -0.080859 -0.172717 -0.240557 -0.244994   \n",
       "4 -0.002919 -0.032116 -0.062614 -0.080859 -0.172717 -0.240557 -0.244994   \n",
       "\n",
       "        7         8         9    ...       390       391       392       393  \\\n",
       "0  0.140907 -1.877327 -1.094916  ...  1.254112 -0.841178 -0.196198  0.065344   \n",
       "1 -0.102237  0.113351 -1.658672  ...  0.222872 -0.730414 -0.186458  0.058611   \n",
       "2 -0.102237  0.113351 -1.658672  ...  0.222872 -0.730414 -0.186458  0.058611   \n",
       "3 -0.102237  0.113351 -1.658672  ...  0.222872 -0.730414 -0.186458  0.058611   \n",
       "4 -0.102237  0.113351 -1.658672  ...  0.222872 -0.730414 -0.186458  0.058611   \n",
       "\n",
       "        394       395       396       397       398       399  \n",
       "0 -0.214708 -0.184470 -0.052114  0.156518  0.079025  0.057311  \n",
       "1 -0.068904 -0.072656  0.023373  0.067562  0.036825  0.326601  \n",
       "2 -0.068904 -0.072656  0.023373  0.067562  0.036825  0.326601  \n",
       "3 -0.068904 -0.072656  0.023373  0.067562  0.036825  0.326601  \n",
       "4 -0.068904 -0.072656  0.023373  0.067562  0.036825  0.326601  \n",
       "\n",
       "[5 rows x 400 columns]"
      ]
     },
     "execution_count": 61,
     "metadata": {},
     "output_type": "execute_result"
    }
   ],
   "source": [
    "df.head()"
   ]
  },
  {
   "cell_type": "code",
   "execution_count": 62,
   "metadata": {},
   "outputs": [
    {
     "data": {
      "text/plain": [
       "(60000, 400)"
      ]
     },
     "execution_count": 62,
     "metadata": {},
     "output_type": "execute_result"
    }
   ],
   "source": [
    "df.shape"
   ]
  },
  {
   "cell_type": "code",
   "execution_count": 63,
   "metadata": {},
   "outputs": [
    {
     "data": {
      "text/plain": [
       "60000"
      ]
     },
     "execution_count": 63,
     "metadata": {},
     "output_type": "execute_result"
    }
   ],
   "source": [
    "len(itos)"
   ]
  },
  {
   "cell_type": "code",
   "execution_count": 64,
   "metadata": {},
   "outputs": [],
   "source": [
    "df2 = pd.DataFrame(itos)"
   ]
  },
  {
   "cell_type": "code",
   "execution_count": 65,
   "metadata": {},
   "outputs": [
    {
     "data": {
      "text/html": [
       "<div>\n",
       "<style scoped>\n",
       "    .dataframe tbody tr th:only-of-type {\n",
       "        vertical-align: middle;\n",
       "    }\n",
       "\n",
       "    .dataframe tbody tr th {\n",
       "        vertical-align: top;\n",
       "    }\n",
       "\n",
       "    .dataframe thead th {\n",
       "        text-align: right;\n",
       "    }\n",
       "</style>\n",
       "<table border=\"1\" class=\"dataframe\">\n",
       "  <thead>\n",
       "    <tr style=\"text-align: right;\">\n",
       "      <th></th>\n",
       "      <th>0</th>\n",
       "    </tr>\n",
       "  </thead>\n",
       "  <tbody>\n",
       "    <tr>\n",
       "      <th>0</th>\n",
       "      <td>xxunk</td>\n",
       "    </tr>\n",
       "    <tr>\n",
       "      <th>1</th>\n",
       "      <td>xxbos</td>\n",
       "    </tr>\n",
       "    <tr>\n",
       "      <th>2</th>\n",
       "      <td>xxeos</td>\n",
       "    </tr>\n",
       "    <tr>\n",
       "      <th>3</th>\n",
       "      <td>xxpad</td>\n",
       "    </tr>\n",
       "    <tr>\n",
       "      <th>4</th>\n",
       "      <td>xxfld</td>\n",
       "    </tr>\n",
       "  </tbody>\n",
       "</table>\n",
       "</div>"
      ],
      "text/plain": [
       "       0\n",
       "0  xxunk\n",
       "1  xxbos\n",
       "2  xxeos\n",
       "3  xxpad\n",
       "4  xxfld"
      ]
     },
     "execution_count": 65,
     "metadata": {},
     "output_type": "execute_result"
    }
   ],
   "source": [
    "df2.head()"
   ]
  },
  {
   "cell_type": "code",
   "execution_count": 66,
   "metadata": {},
   "outputs": [
    {
     "data": {
      "text/plain": [
       "(60000, 1)"
      ]
     },
     "execution_count": 66,
     "metadata": {},
     "output_type": "execute_result"
    }
   ],
   "source": [
    "df2.shape"
   ]
  },
  {
   "cell_type": "code",
   "execution_count": 67,
   "metadata": {},
   "outputs": [],
   "source": [
    "df2.to_csv('ulmfit_embeddings_metadata.tsv', sep='\\t', index=False, header=False)"
   ]
  },
  {
   "cell_type": "code",
   "execution_count": 68,
   "metadata": {
    "scrolled": true
   },
   "outputs": [
    {
     "data": {
      "text/plain": [
       "tensor([-2.9187e-03, -3.2116e-02, -6.2614e-02, -8.0859e-02, -1.7272e-01,\n",
       "        -2.4056e-01, -2.4499e-01, -1.0224e-01,  1.1335e-01, -1.6587e+00,\n",
       "         3.5573e-02,  4.1172e-01,  1.6680e-02, -9.7491e-02,  1.7124e-01,\n",
       "        -8.9159e-03, -1.0163e-01, -1.0758e-01, -3.4962e-02, -8.1240e-03,\n",
       "        -3.4925e-01,  1.8157e-01,  1.3469e-01,  7.3417e-02,  1.5573e-01,\n",
       "        -3.7215e-02,  1.0590e-01, -4.9367e-01, -6.2671e-01, -3.9182e-02,\n",
       "        -2.3398e-01, -1.3931e-02, -8.7924e-02,  2.4612e-01,  6.6885e-02,\n",
       "         2.2967e-01, -2.5089e-02,  1.8445e-01,  7.1987e-02, -5.0538e-01,\n",
       "        -1.3284e-01,  1.4533e+00, -4.8622e-02,  4.5638e-01,  7.8519e-03,\n",
       "        -5.6188e-01, -6.3683e-02, -1.0952e-01, -8.5916e-02,  1.1065e-02,\n",
       "        -6.2366e-02,  2.7871e-02,  3.9858e-02, -2.9767e-02,  7.5633e-02,\n",
       "        -1.0337e-01,  3.1411e-01, -9.6026e-03,  6.5735e-03, -3.8106e-02,\n",
       "         2.0342e-01,  5.0189e-02, -1.3507e-01, -1.0616e-01, -1.2663e-01,\n",
       "         3.3877e-02,  5.1502e-01, -2.5867e-01, -2.7445e-01, -3.2957e-01,\n",
       "        -4.5453e-02, -1.5921e-01, -1.0091e-02,  4.9853e-02, -1.3473e-02,\n",
       "         7.3853e-02, -8.7657e-02,  7.0200e-02, -1.9592e-01, -1.8584e-01,\n",
       "         1.2692e-01, -4.6667e-02, -1.3791e-01, -8.6655e-01,  1.5646e-01,\n",
       "        -1.7512e-02, -1.5196e-02,  7.0219e-01,  3.6922e-02, -8.7802e-02,\n",
       "        -6.3153e-02, -5.4618e-02,  7.7681e-01, -8.9624e-02,  1.0333e-01,\n",
       "        -1.5061e-01, -1.9691e-01, -1.0405e-01, -5.2469e-03,  3.4804e-02,\n",
       "        -1.9048e+00,  1.2961e-02, -7.6151e-02, -3.0227e-02, -1.1168e-01,\n",
       "        -2.1823e-01,  8.3927e-02,  7.0998e-02,  5.3820e-02,  4.9391e-03,\n",
       "         5.3501e-02, -5.6699e-03,  6.8015e-02, -9.6646e-02,  8.4612e-03,\n",
       "        -2.1448e-01,  4.2210e-02,  3.7357e-02, -1.9095e-01, -1.5339e-01,\n",
       "        -9.2403e-02,  2.6256e-01,  2.5272e-02, -1.5551e-01, -2.0262e-03,\n",
       "         1.1334e-01,  2.4964e-03,  6.9420e-02, -5.1482e-03, -3.8082e-01,\n",
       "         2.9691e-02,  8.0435e-02, -6.4512e-03, -3.2134e-02, -4.7975e-02,\n",
       "        -1.9439e-01,  5.4026e-02, -1.2120e-02, -5.6939e-02, -5.9300e-02,\n",
       "        -1.1222e+00, -1.9369e-02, -6.2998e-01, -6.7877e-01, -3.1476e-02,\n",
       "        -2.7595e-01,  6.4794e-01, -5.3514e-02,  5.8708e-02, -6.8947e-02,\n",
       "         4.1252e-01,  6.4117e-02,  3.3518e-02,  1.8774e-02, -8.9827e-02,\n",
       "         7.6497e-02, -2.2753e-01, -4.5351e-01, -1.7754e-01, -5.1700e-02,\n",
       "        -1.9093e-03, -6.6368e-02,  5.1913e-02, -5.5704e-01,  1.2388e+00,\n",
       "        -8.2885e-03,  6.0626e-01, -3.1609e-01,  5.7352e-02, -9.9144e-02,\n",
       "        -1.7669e-01, -4.8034e-02,  8.6085e-03, -1.8022e-02,  4.9524e-02,\n",
       "        -4.7448e-02, -9.5540e-03, -2.3887e-02,  4.8543e-01, -9.2285e-02,\n",
       "        -1.2474e-01,  1.9004e-02,  2.1390e-02, -5.4489e-02, -4.2222e-01,\n",
       "        -1.0507e-01, -2.3539e-02,  3.8077e-02, -3.5809e-02, -3.5784e-01,\n",
       "        -7.7812e-02, -3.9868e-02, -6.4159e-02, -8.6539e-02,  1.6049e-02,\n",
       "         4.7802e-02,  9.5154e-02,  1.9281e-02, -6.5718e-02, -1.3133e-01,\n",
       "         1.3084e-01,  1.1686e-01, -6.3678e-02, -9.7333e-02,  3.3817e-02,\n",
       "         7.5872e-03, -6.4684e-02, -6.9461e-02,  9.5442e-02, -3.5291e-03,\n",
       "         2.7013e-02, -2.6906e-01,  3.6837e-02, -1.3816e-01,  1.4935e-01,\n",
       "         1.0103e-01, -2.6283e-01, -7.5157e-02, -6.1255e-01, -1.4254e-01,\n",
       "        -5.4821e-03,  2.4207e-01,  1.5336e-01,  1.9193e-01, -3.1017e-01,\n",
       "        -3.1065e-01, -2.9146e-01, -6.2787e-03, -1.2662e-01,  2.1526e-01,\n",
       "        -2.6885e-03, -8.8037e-02, -5.0497e-02, -8.4223e-02, -8.0510e-02,\n",
       "        -8.0366e-02, -1.0376e-01,  8.9093e-02, -1.9014e+00,  4.8636e-02,\n",
       "         8.7576e-02,  5.6187e-02,  1.3216e-01, -1.2519e-01, -1.2206e-02,\n",
       "         4.4694e-02,  1.5859e-01, -1.0104e-01, -4.2578e-02, -2.6318e-01,\n",
       "        -9.2187e-02, -6.9023e-01,  1.8497e-01, -1.0506e-01,  9.2997e-02,\n",
       "         3.0410e-02,  3.1610e-01,  2.3125e-01,  3.1729e-02,  3.1137e-03,\n",
       "        -1.8753e-01,  4.1015e-01,  1.2182e-01, -1.3001e-01,  7.8031e-02,\n",
       "        -2.2681e-01,  1.0490e-01,  2.9785e-01, -9.7402e-02,  2.4563e-01,\n",
       "        -7.4137e-02,  9.8176e-02,  7.3192e-02,  1.4741e-01, -1.4455e-02,\n",
       "         3.9675e-02, -5.1999e-02, -2.2477e-01, -9.8412e-04, -2.3044e-01,\n",
       "        -2.4884e-03, -8.3995e-03, -5.1626e-02,  4.9229e-02,  1.5975e-02,\n",
       "        -2.3979e-01, -6.6930e-02,  2.3586e-02,  1.1708e-01,  7.4359e-01,\n",
       "         8.0187e-02,  4.0656e-05,  1.3039e-03,  1.5969e-01,  1.5412e-01,\n",
       "        -3.3263e-01, -1.2081e-01, -1.8170e-02, -1.4651e-01,  5.7594e-03,\n",
       "         4.4872e-02,  1.5866e-02,  1.3780e-02,  3.0664e-02, -9.1796e-02,\n",
       "        -1.3607e-01, -7.2116e-02, -1.9306e-01, -2.2005e-02, -4.1719e-02,\n",
       "         1.5716e-01, -1.3475e-02, -1.5902e-01, -1.0305e-01, -1.8623e-01,\n",
       "        -2.0162e-02, -1.1790e-01,  2.6468e-03,  1.0837e-01, -1.5708e-01,\n",
       "         9.7601e-02, -1.7500e-02,  9.2511e-02, -6.0289e-02, -5.8633e-01,\n",
       "        -1.1078e+00, -5.6227e-02, -8.5436e-02,  8.2247e-02,  7.3313e-02,\n",
       "        -5.7286e-02,  7.8419e-02, -1.7862e-01, -2.8760e-02,  1.2756e-02,\n",
       "         5.6452e-02,  2.7217e-01,  5.2943e-02, -1.1822e-01, -1.2073e-01,\n",
       "         2.9366e-02, -2.2071e-02, -9.8312e-02,  1.0345e-02, -5.0024e-02,\n",
       "         1.4357e-01, -2.1481e-01, -7.5577e-02,  1.1536e-01,  4.3374e-02,\n",
       "        -1.1146e-01,  5.1039e-02,  4.6026e-02,  5.2667e-02,  7.6212e-02,\n",
       "        -1.2555e-01,  9.3423e-02,  2.7235e-02, -7.7919e-02,  1.2781e-01,\n",
       "         4.2112e-02,  2.7526e-03, -3.5440e-02,  1.7725e-01, -1.0414e-01,\n",
       "        -6.4850e-03, -5.1081e-02, -3.0382e-02,  6.8816e-02, -5.2904e-02,\n",
       "        -7.7525e-02, -8.1588e-02,  3.1553e-02,  4.5183e-02,  1.1568e-01,\n",
       "         9.7224e-02,  3.9238e-02, -7.4050e-01, -8.0326e-02,  3.9502e-01,\n",
       "        -2.3844e+00,  8.4646e-02,  3.2103e-01,  2.2008e-01,  4.6127e-02,\n",
       "         4.3112e-03,  7.3353e-02,  8.4515e-02, -2.9247e-02,  2.7953e-02,\n",
       "         2.2287e-01, -7.3041e-01, -1.8646e-01,  5.8611e-02, -6.8904e-02,\n",
       "        -7.2656e-02,  2.3373e-02,  6.7562e-02,  3.6825e-02,  3.2660e-01],\n",
       "       device='cuda:0')"
      ]
     },
     "execution_count": 68,
     "metadata": {},
     "output_type": "execute_result"
    }
   ],
   "source": [
    "encoder.state_dict()['encoder.weight'][1]"
   ]
  },
  {
   "cell_type": "code",
   "execution_count": null,
   "metadata": {},
   "outputs": [],
   "source": []
  }
 ],
 "metadata": {
  "kernelspec": {
   "display_name": "Python 3",
   "language": "python",
   "name": "python3"
  },
  "language_info": {
   "codemirror_mode": {
    "name": "ipython",
    "version": 3
   },
   "file_extension": ".py",
   "mimetype": "text/x-python",
   "name": "python",
   "nbconvert_exporter": "python",
   "pygments_lexer": "ipython3",
   "version": "3.7.3"
  }
 },
 "nbformat": 4,
 "nbformat_minor": 2
}
